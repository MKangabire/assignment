{
  "cells": [
    {
      "cell_type": "markdown",
      "metadata": {
        "id": "view-in-github",
        "colab_type": "text"
      },
      "source": [
        "<a href=\"https://colab.research.google.com/github/MKangabire/assignment/blob/main/notebook.ipynb\" target=\"_parent\"><img src=\"https://colab.research.google.com/assets/colab-badge.svg\" alt=\"Open In Colab\"/></a>"
      ]
    },
    {
      "cell_type": "markdown",
      "id": "0e6be5d4-f0f8-423b-b75b-de0497cdd2e5",
      "metadata": {
        "id": "0e6be5d4-f0f8-423b-b75b-de0497cdd2e5"
      },
      "source": [
        "## Student Name:\n",
        "-Jordan Nguepi\n",
        "\n",
        "-Kangabire Muhoza Merveille\n",
        "## Dataset Used: MNIST dataset\n"
      ]
    },
    {
      "cell_type": "code",
      "execution_count": 1,
      "id": "14a3b5cf-6937-480c-85da-33562fb55a7f",
      "metadata": {
        "id": "14a3b5cf-6937-480c-85da-33562fb55a7f"
      },
      "outputs": [],
      "source": [
        "# all imports\n",
        "import tensorflow as tf\n",
        "from tensorflow.keras import layers, models\n",
        "from tensorflow.keras.datasets import mnist\n",
        "from tensorflow.keras.utils import to_categorical\n"
      ]
    },
    {
      "cell_type": "code",
      "execution_count": 2,
      "id": "3bfd9203-1868-4a0a-98d7-7d88a33d7ca9",
      "metadata": {
        "colab": {
          "base_uri": "https://localhost:8080/"
        },
        "id": "3bfd9203-1868-4a0a-98d7-7d88a33d7ca9",
        "outputId": "b7ba3e1e-7fd4-4640-ab6c-4bf01b6d6522"
      },
      "outputs": [
        {
          "output_type": "stream",
          "name": "stdout",
          "text": [
            "Downloading data from https://storage.googleapis.com/tensorflow/tf-keras-datasets/mnist.npz\n",
            "\u001b[1m11490434/11490434\u001b[0m \u001b[32m━━━━━━━━━━━━━━━━━━━━\u001b[0m\u001b[37m\u001b[0m \u001b[1m2s\u001b[0m 0us/step\n"
          ]
        }
      ],
      "source": [
        "# loading the inbuild mnistdataset\n",
        "(X_train, y_train), (X_test, y_test) = mnist.load_data()"
      ]
    },
    {
      "cell_type": "code",
      "execution_count": 3,
      "id": "6c5bb4d0-f75e-48d5-98da-509bcbef5ebb",
      "metadata": {
        "id": "6c5bb4d0-f75e-48d5-98da-509bcbef5ebb"
      },
      "outputs": [],
      "source": [
        "# Preprocessing the data\n",
        "X_train = X_train.reshape(-1, 28 * 28).astype('float32') / 255.0 # Normalize and flatten\n",
        "X_test = X_test.reshape(-1, 28 * 28).astype('float32') / 255.0\n",
        "y_train = to_categorical(y_train, 10) # One-hot encode labels\n",
        "y_test = to_categorical(y_test, 10)"
      ]
    },
    {
      "cell_type": "code",
      "execution_count": 4,
      "id": "9304e011-773d-4cb5-9f91-e470f97c0cf7",
      "metadata": {
        "id": "9304e011-773d-4cb5-9f91-e470f97c0cf7"
      },
      "outputs": [],
      "source": [
        "# build the model\n",
        "model = models.Sequential([ layers.Input(shape=(28 * 28,)), # Input layer matching image size\n",
        "                           layers.Dense(128, activation='relu'), # Hidden layer with 128 neurons\n",
        "                           layers.Dense(10, activation='softmax') # Output layer with 10 classes\n",
        "                          ])\n",
        "\n"
      ]
    },
    {
      "cell_type": "code",
      "execution_count": 5,
      "id": "e6f3f0f1-996c-49bc-a6d9-0f55a959304d",
      "metadata": {
        "id": "e6f3f0f1-996c-49bc-a6d9-0f55a959304d"
      },
      "outputs": [],
      "source": [
        "# compile the model\n",
        "model.compile(optimizer='adam',\n",
        "              loss='categorical_crossentropy',\n",
        "              metrics=['accuracy']\n",
        "             )"
      ]
    },
    {
      "cell_type": "code",
      "execution_count": 6,
      "id": "cfba1f76-5de4-40e5-ac16-0ea86d6dc87c",
      "metadata": {
        "colab": {
          "base_uri": "https://localhost:8080/"
        },
        "id": "cfba1f76-5de4-40e5-ac16-0ea86d6dc87c",
        "outputId": "a343969f-2ca0-47b9-dd83-6769d14ac8b3"
      },
      "outputs": [
        {
          "output_type": "stream",
          "name": "stdout",
          "text": [
            "Epoch 1/10\n",
            "\u001b[1m1500/1500\u001b[0m \u001b[32m━━━━━━━━━━━━━━━━━━━━\u001b[0m\u001b[37m\u001b[0m \u001b[1m11s\u001b[0m 6ms/step - accuracy: 0.8604 - loss: 0.4908 - val_accuracy: 0.9557 - val_loss: 0.1589\n",
            "Epoch 2/10\n",
            "\u001b[1m1500/1500\u001b[0m \u001b[32m━━━━━━━━━━━━━━━━━━━━\u001b[0m\u001b[37m\u001b[0m \u001b[1m8s\u001b[0m 5ms/step - accuracy: 0.9585 - loss: 0.1440 - val_accuracy: 0.9679 - val_loss: 0.1167\n",
            "Epoch 3/10\n",
            "\u001b[1m1500/1500\u001b[0m \u001b[32m━━━━━━━━━━━━━━━━━━━━\u001b[0m\u001b[37m\u001b[0m \u001b[1m8s\u001b[0m 3ms/step - accuracy: 0.9741 - loss: 0.0887 - val_accuracy: 0.9698 - val_loss: 0.1040\n",
            "Epoch 4/10\n",
            "\u001b[1m1500/1500\u001b[0m \u001b[32m━━━━━━━━━━━━━━━━━━━━\u001b[0m\u001b[37m\u001b[0m \u001b[1m7s\u001b[0m 5ms/step - accuracy: 0.9819 - loss: 0.0650 - val_accuracy: 0.9721 - val_loss: 0.0945\n",
            "Epoch 5/10\n",
            "\u001b[1m1500/1500\u001b[0m \u001b[32m━━━━━━━━━━━━━━━━━━━━\u001b[0m\u001b[37m\u001b[0m \u001b[1m9s\u001b[0m 4ms/step - accuracy: 0.9850 - loss: 0.0513 - val_accuracy: 0.9739 - val_loss: 0.0916\n",
            "Epoch 6/10\n",
            "\u001b[1m1500/1500\u001b[0m \u001b[32m━━━━━━━━━━━━━━━━━━━━\u001b[0m\u001b[37m\u001b[0m \u001b[1m9s\u001b[0m 3ms/step - accuracy: 0.9886 - loss: 0.0396 - val_accuracy: 0.9731 - val_loss: 0.0919\n",
            "Epoch 7/10\n",
            "\u001b[1m1500/1500\u001b[0m \u001b[32m━━━━━━━━━━━━━━━━━━━━\u001b[0m\u001b[37m\u001b[0m \u001b[1m7s\u001b[0m 5ms/step - accuracy: 0.9910 - loss: 0.0307 - val_accuracy: 0.9747 - val_loss: 0.0875\n",
            "Epoch 8/10\n",
            "\u001b[1m1500/1500\u001b[0m \u001b[32m━━━━━━━━━━━━━━━━━━━━\u001b[0m\u001b[37m\u001b[0m \u001b[1m5s\u001b[0m 3ms/step - accuracy: 0.9936 - loss: 0.0225 - val_accuracy: 0.9760 - val_loss: 0.0874\n",
            "Epoch 9/10\n",
            "\u001b[1m1500/1500\u001b[0m \u001b[32m━━━━━━━━━━━━━━━━━━━━\u001b[0m\u001b[37m\u001b[0m \u001b[1m7s\u001b[0m 4ms/step - accuracy: 0.9948 - loss: 0.0188 - val_accuracy: 0.9764 - val_loss: 0.0867\n",
            "Epoch 10/10\n",
            "\u001b[1m1500/1500\u001b[0m \u001b[32m━━━━━━━━━━━━━━━━━━━━\u001b[0m\u001b[37m\u001b[0m \u001b[1m5s\u001b[0m 3ms/step - accuracy: 0.9956 - loss: 0.0149 - val_accuracy: 0.9748 - val_loss: 0.0984\n"
          ]
        }
      ],
      "source": [
        "# train the model\n",
        "history = model.fit(X_train, y_train, epochs=10, batch_size=32, validation_split=0.2)"
      ]
    },
    {
      "cell_type": "code",
      "execution_count": 7,
      "id": "b91d01dc-4fe2-407c-9c53-7817e1bea308",
      "metadata": {
        "colab": {
          "base_uri": "https://localhost:8080/"
        },
        "id": "b91d01dc-4fe2-407c-9c53-7817e1bea308",
        "outputId": "c8b57270-fa4b-40fb-f47f-abcf8617939f"
      },
      "outputs": [
        {
          "output_type": "stream",
          "name": "stderr",
          "text": [
            "WARNING:absl:You are saving your model as an HDF5 file via `model.save()` or `keras.saving.save_model(model)`. This file format is considered legacy. We recommend using instead the native Keras format, e.g. `model.save('my_model.keras')` or `keras.saving.save_model(model, 'my_model.keras')`. \n"
          ]
        }
      ],
      "source": [
        "# save the model\n",
        "\n",
        "model.save(\"mnist_model.h5\")"
      ]
    },
    {
      "cell_type": "code",
      "execution_count": 8,
      "id": "e360c321-eae8-4292-9647-64476c68627a",
      "metadata": {
        "colab": {
          "base_uri": "https://localhost:8080/"
        },
        "id": "e360c321-eae8-4292-9647-64476c68627a",
        "outputId": "d773700b-b813-4454-9483-81e86d188155"
      },
      "outputs": [
        {
          "output_type": "stream",
          "name": "stderr",
          "text": [
            "WARNING:absl:Compiled the loaded model, but the compiled metrics have yet to be built. `model.compile_metrics` will be empty until you train or evaluate the model.\n"
          ]
        },
        {
          "output_type": "stream",
          "name": "stdout",
          "text": [
            "\u001b[1m1/1\u001b[0m \u001b[32m━━━━━━━━━━━━━━━━━━━━\u001b[0m\u001b[37m\u001b[0m \u001b[1m0s\u001b[0m 49ms/step\n"
          ]
        }
      ],
      "source": [
        "# load model and make prediction\n",
        "\n",
        "loaded_model = tf.keras.models.load_model(\"mnist_model.h5\")\n",
        "predictions = loaded_model.predict(X_test[:5])"
      ]
    },
    {
      "cell_type": "code",
      "execution_count": 9,
      "id": "256ee51e-f072-4441-8b97-6ae5ac79750c",
      "metadata": {
        "colab": {
          "base_uri": "https://localhost:8080/"
        },
        "id": "256ee51e-f072-4441-8b97-6ae5ac79750c",
        "outputId": "18340c5f-46ad-458a-cda0-781570ed842b"
      },
      "outputs": [
        {
          "output_type": "stream",
          "name": "stdout",
          "text": [
            "Predictions: [7 2 1 0 4]\n",
            "Actual Labels: [7 2 1 0 4]\n"
          ]
        }
      ],
      "source": [
        "# print prediction and actual values\n",
        "print(\"Predictions:\", predictions.argmax(axis=1))\n",
        "print(\"Actual Labels:\", y_test[:5].argmax(axis=1))"
      ]
    }
  ],
  "metadata": {
    "kernelspec": {
      "display_name": "Python 3 (ipykernel)",
      "language": "python",
      "name": "python3"
    },
    "language_info": {
      "codemirror_mode": {
        "name": "ipython",
        "version": 3
      },
      "file_extension": ".py",
      "mimetype": "text/x-python",
      "name": "python",
      "nbconvert_exporter": "python",
      "pygments_lexer": "ipython3",
      "version": "3.11.4"
    },
    "colab": {
      "provenance": [],
      "include_colab_link": true
    }
  },
  "nbformat": 4,
  "nbformat_minor": 5
}