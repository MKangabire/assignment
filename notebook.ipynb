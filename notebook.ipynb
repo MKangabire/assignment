{
 "cells": [
  {
   "cell_type": "markdown",
   "id": "0e6be5d4-f0f8-423b-b75b-de0497cdd2e5",
   "metadata": {},
   "source": [
    "## Student Name: Jordan Nguepi\n",
    "## Dataset Used: MNIST dataset\n"
   ]
  },
  {
   "cell_type": "code",
   "execution_count": null,
   "id": "14a3b5cf-6937-480c-85da-33562fb55a7f",
   "metadata": {},
   "outputs": [],
   "source": [
    "# all imports\n",
    "import tensorflow as tf \n",
    "from tensorflow.keras import layers, models \n",
    "from tensorflow.keras.datasets import mnist \n",
    "from tensorflow.keras.utils import to_categorical\n"
   ]
  },
  {
   "cell_type": "code",
   "execution_count": 1,
   "id": "3bfd9203-1868-4a0a-98d7-7d88a33d7ca9",
   "metadata": {},
   "outputs": [
    {
     "ename": "NameError",
     "evalue": "name 'mnist' is not defined",
     "output_type": "error",
     "traceback": [
      "\u001b[0;31m---------------------------------------------------------------------------\u001b[0m",
      "\u001b[0;31mNameError\u001b[0m                                 Traceback (most recent call last)",
      "Cell \u001b[0;32mIn[1], line 2\u001b[0m\n\u001b[1;32m      1\u001b[0m \u001b[38;5;66;03m# loading the inbuild mnistdataset\u001b[39;00m\n\u001b[0;32m----> 2\u001b[0m (X_train, y_train), (X_test, y_test) \u001b[38;5;241m=\u001b[39m \u001b[43mmnist\u001b[49m\u001b[38;5;241m.\u001b[39mload_data()\n",
      "\u001b[0;31mNameError\u001b[0m: name 'mnist' is not defined"
     ]
    }
   ],
   "source": [
    "# loading the inbuild mnistdataset\n",
    "(X_train, y_train), (X_test, y_test) = mnist.load_data()"
   ]
  },
  {
   "cell_type": "code",
   "execution_count": null,
   "id": "6c5bb4d0-f75e-48d5-98da-509bcbef5ebb",
   "metadata": {},
   "outputs": [],
   "source": [
    "# Preprocessing the data\n",
    "X_train = X_train.reshape(-1, 28 * 28).astype('float32') / 255.0 # Normalize and flatten \n",
    "X_test = X_test.reshape(-1, 28 * 28).astype('float32') / 255.0 \n",
    "y_train = to_categorical(y_train, 10) # One-hot encode labels \n",
    "y_test = to_categorical(y_test, 10)"
   ]
  },
  {
   "cell_type": "code",
   "execution_count": null,
   "id": "9304e011-773d-4cb5-9f91-e470f97c0cf7",
   "metadata": {},
   "outputs": [],
   "source": [
    "# build the model\n",
    "model = models.Sequential([ layers.Input(shape=(28 * 28,)), # Input layer matching image size\n",
    "                           layers.Dense(128, activation='relu'), # Hidden layer with 128 neurons\n",
    "                           layers.Dense(10, activation='softmax') # Output layer with 10 classes\n",
    "                          ]) \n",
    "\n"
   ]
  },
  {
   "cell_type": "code",
   "execution_count": null,
   "id": "e6f3f0f1-996c-49bc-a6d9-0f55a959304d",
   "metadata": {},
   "outputs": [],
   "source": [
    "# compile the model\n",
    "model.compile(optimizer='adam',\n",
    "              loss='categorical_crossentropy',\n",
    "              metrics=['accuracy']\n",
    "             )"
   ]
  },
  {
   "cell_type": "code",
   "execution_count": null,
   "id": "cfba1f76-5de4-40e5-ac16-0ea86d6dc87c",
   "metadata": {},
   "outputs": [],
   "source": [
    "# train the model\n",
    "history = model.fit(X_train, y_train, epochs=10, batch_size=32, validation_split=0.2)"
   ]
  },
  {
   "cell_type": "code",
   "execution_count": null,
   "id": "b91d01dc-4fe2-407c-9c53-7817e1bea308",
   "metadata": {},
   "outputs": [],
   "source": [
    "# save the model\n",
    "\n",
    "model.save(\"mnist_model.h5\")"
   ]
  },
  {
   "cell_type": "code",
   "execution_count": null,
   "id": "e360c321-eae8-4292-9647-64476c68627a",
   "metadata": {},
   "outputs": [],
   "source": [
    "# load model and make prediction\n",
    "\n",
    "loaded_model = tf.keras.models.load_model(\"mnist_model.h5\")\n",
    "predictions = loaded_model.predict(X_test[:5])"
   ]
  },
  {
   "cell_type": "code",
   "execution_count": null,
   "id": "256ee51e-f072-4441-8b97-6ae5ac79750c",
   "metadata": {},
   "outputs": [],
   "source": [
    "# print prediction and actual values\n",
    "print(\"Predictions:\", predictions.argmax(axis=1))\n",
    "print(\"Actual Labels:\", y_test[:5].argmax(axis=1))"
   ]
  }
 ],
 "metadata": {
  "kernelspec": {
   "display_name": "Python 3 (ipykernel)",
   "language": "python",
   "name": "python3"
  },
  "language_info": {
   "codemirror_mode": {
    "name": "ipython",
    "version": 3
   },
   "file_extension": ".py",
   "mimetype": "text/x-python",
   "name": "python",
   "nbconvert_exporter": "python",
   "pygments_lexer": "ipython3",
   "version": "3.11.4"
  }
 },
 "nbformat": 4,
 "nbformat_minor": 5
}
